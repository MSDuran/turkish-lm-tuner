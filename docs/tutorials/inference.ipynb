{
 "cells": [
  {
   "cell_type": "markdown",
   "metadata": {},
   "source": [
    "## How to use `turkish-lm-tuner` for inference\n",
    "\n",
    "`turkish-lm-tuner` allows easy inference on Turkish language models. It supports various tasks.\n",
    "\n",
    "\n",
    "\n",
    "### Examples\n",
    "\n",
    "The following examples show how to use `turkish-lm-tuner` for inference with conditional generation models.\n",
    "\n",
    "#### Text Generation\n",
    "\n",
    "```python\n",
    "from turkish_lm_tuner import TextPredictor\n",
    "predictor = TextPredictor(model_name='boun-tabi-LMG/TURNA', task='generation')\n",
    "predictor.predict('[S2S] Bir varmış, bir yokmuş, evvel zaman içinde, kalbur saman içinde, uzak diyarların birinde bir turna<EOS>')\n",
    "```\n",
    "\n",
    "#### Named Entity Recognition\n",
    "\n",
    "```python\n",
    "from turkish_lm_tuner import TextPredictor\n",
    "predictor = TextPredictor(model_name='boun-tabi-LMG/turna_ner_milliyet', task='ner')\n",
    "predictor.predict('Ecevit, Irak hükümetinin de Ankara Büyükelçiliği için agreman istediğini belirtti.')\n",
    "```\n",
    "\n"
   ]
  }
 ],
 "metadata": {
  "language_info": {
   "name": "python"
  }
 },
 "nbformat": 4,
 "nbformat_minor": 2
}
